{
 "cells": [
  {
   "cell_type": "code",
   "execution_count": 1,
   "id": "06f65273-5fcb-4930-a097-278aab79c217",
   "metadata": {
    "tags": []
   },
   "outputs": [
    {
     "name": "stderr",
     "output_type": "stream",
     "text": [
      "[nltk_data] Downloading package punkt to /home/U4VN/nltk_data...\n",
      "[nltk_data]   Package punkt is already up-to-date!\n",
      "[nltk_data] Downloading package stopwords to /home/U4VN/nltk_data...\n",
      "[nltk_data]   Package stopwords is already up-to-date!\n"
     ]
    },
    {
     "data": {
      "text/plain": [
       "True"
      ]
     },
     "execution_count": 1,
     "metadata": {},
     "output_type": "execute_result"
    }
   ],
   "source": [
    "import json\n",
    "import nltk\n",
    "import random\n",
    "import requests\n",
    "from nltk.tokenize import sent_tokenize\n",
    "from nltk.tokenize import word_tokenize\n",
    "from nltk.corpus import stopwords\n",
    "from tqdm import tqdm\n",
    "import numpy as np\n",
    "\n",
    "from rank_bm25 import BM25Okapi\n",
    "\n",
    "nltk.download('punkt')\n",
    "nltk.download('stopwords')"
   ]
  },
  {
   "cell_type": "code",
   "execution_count": 2,
   "id": "0bebc333-865a-472d-8d78-4556a71b8fbc",
   "metadata": {
    "tags": []
   },
   "outputs": [
    {
     "name": "stdout",
     "output_type": "stream",
     "text": [
      "458\n"
     ]
    }
   ],
   "source": [
    "def load_squad_dataset(file_path):\n",
    "    with open(file_path, 'r') as f:\n",
    "        dataset = json.load(f)\n",
    "    return dataset['data']\n",
    "\n",
    "squad_data = load_squad_dataset('./train-v2.0.json')\n",
    "squad_data.extend(load_squad_dataset('./dev-v2.0.json'))\n",
    "print(len(squad_data))"
   ]
  },
  {
   "cell_type": "markdown",
   "id": "70c6345e-837d-49de-964d-9fe722cd1005",
   "metadata": {},
   "source": [
    "<pre>\n",
    "[\n",
    "    {'title': TITLE,\n",
    "     'paragraphs' : \n",
    "     [{\n",
    "         'qas': [\n",
    "             {'question':, 'answers': [{'text': }], 'is_impossible':}\n",
    "          ],\n",
    "          'context' : \n",
    "      }]\n",
    "     }\n",
    "]\n",
    "</pre>"
   ]
  },
  {
   "cell_type": "markdown",
   "id": "190c1774-0a94-4562-a530-526e2316d4c2",
   "metadata": {},
   "source": [
    "Contexts have several sentences. Questions have answer in some sentence.\n",
    "<pre>\n",
    "    sentences = []\n",
    "    questions = []\n",
    "    q2sent[question] = sent_with_answer #dict\n",
    "</pre>"
   ]
  },
  {
   "cell_type": "code",
   "execution_count": 36,
   "id": "d33c8f0e-4a5f-4aa4-bf32-35aae8e93bf8",
   "metadata": {
    "tags": []
   },
   "outputs": [],
   "source": [
    "sentences = []\n",
    "questions = []\n",
    "q2s = {}\n",
    "last_sent_idx = 0\n",
    "cur_q_idx = -1\n",
    "for data in squad_data:\n",
    "    for paragraph in data['paragraphs']:\n",
    "        last_sent_idx = len(sentences)\n",
    "        context = paragraph['context']\n",
    "        context_sentences = sent_tokenize(context)\n",
    "        context_sentences_len = [len(sent) for sent in context_sentences]\n",
    "        sentences.extend(context_sentences)\n",
    "        \n",
    "        for qa in paragraph['qas']:\n",
    "            question = qa['question']\n",
    "            if qa['is_impossible']:\n",
    "                continue #next question with answer\n",
    "            \n",
    "            answer_start = qa['answers'][0]['answer_start']\n",
    "            answer_text = qa['answers'][0]['text']\n",
    "            cur_q_idx += 1\n",
    "            questions.append(question)\n",
    "            q2s[cur_q_idx] = None\n",
    "            \n",
    "            # Find the sentence containing the answer span\n",
    "            for idx, s in enumerate(context_sentences):\n",
    "                start_index = context.find(s)\n",
    "                end_index = start_index + len(s)\n",
    "                if start_index <= answer_start < end_index:\n",
    "                    q2s[cur_q_idx] = idx + last_sent_idx\n",
    "                    break\n",
    "\n"
   ]
  },
  {
   "cell_type": "code",
   "execution_count": 37,
   "id": "26d0a945-e468-4e3e-8da9-b401735671de",
   "metadata": {
    "tags": []
   },
   "outputs": [
    {
     "name": "stdout",
     "output_type": "stream",
     "text": [
      "97870 89731 89731\n"
     ]
    }
   ],
   "source": [
    "print(len(sentences), len(questions), len(q2s))"
   ]
  },
  {
   "cell_type": "code",
   "execution_count": 40,
   "id": "4e066d47-96bb-44ef-a03e-42def6b99684",
   "metadata": {
    "tags": []
   },
   "outputs": [
    {
     "data": {
      "text/plain": [
       "\"What nationality were the two friends who served as a pivotal influence in Frédéric's life while in Paris?\""
      ]
     },
     "execution_count": 40,
     "metadata": {},
     "output_type": "execute_result"
    }
   ],
   "source": [
    "qid = 1000\n",
    "questions[qid]"
   ]
  },
  {
   "cell_type": "code",
   "execution_count": 41,
   "id": "22da86f9-c72a-46bf-9801-c9e0cb4c7bde",
   "metadata": {
    "tags": []
   },
   "outputs": [
    {
     "data": {
      "text/plain": [
       "\"Two Polish friends in Paris were also to play important roles in Chopin's life there.\""
      ]
     },
     "execution_count": 41,
     "metadata": {},
     "output_type": "execute_result"
    }
   ],
   "source": [
    "sentences[q2s[qid]]"
   ]
  },
  {
   "cell_type": "code",
   "execution_count": null,
   "id": "d4c0db27-462a-4ac4-8782-815b04a04fc2",
   "metadata": {},
   "outputs": [],
   "source": []
  },
  {
   "cell_type": "code",
   "execution_count": 23,
   "id": "e93b5ca9-c2ab-4835-a893-8f5e5f251385",
   "metadata": {
    "tags": []
   },
   "outputs": [],
   "source": [
    "stop_words = set(stopwords.words('english'))"
   ]
  },
  {
   "cell_type": "code",
   "execution_count": 24,
   "id": "72b06236-b70f-4d0b-b239-85a9ce048d46",
   "metadata": {
    "tags": []
   },
   "outputs": [],
   "source": [
    "def get_words(sentence, remove_stop_words=True):\n",
    "    words = word_tokenize(sentence.lower())\n",
    "    filtered_sentence = [w for w in words if not w in stop_words]\n",
    "    return filtered_sentence"
   ]
  },
  {
   "cell_type": "code",
   "execution_count": 42,
   "id": "39698ffa-640f-4dd1-91f7-f5a62b50c1c1",
   "metadata": {
    "tags": []
   },
   "outputs": [],
   "source": [
    "tokenized_corpus = [get_words(sent) for sent in sentences]\n",
    "bm25 = BM25Okapi(tokenized_corpus)"
   ]
  },
  {
   "cell_type": "code",
   "execution_count": 26,
   "id": "59a383c5-d721-4c55-94a7-a37c46c0d9e1",
   "metadata": {
    "tags": []
   },
   "outputs": [],
   "source": [
    "def get_best_sents(query, bm25, k=5):\n",
    "    tokenized_query = get_words(query)\n",
    "    scores = bm25.get_scores(tokenized_query)\n",
    "    results = np.argpartition(scores, -k)[-k:]\n",
    "    return results"
   ]
  },
  {
   "cell_type": "code",
   "execution_count": 43,
   "id": "5fef0b54-eb18-4d77-865b-0e0135b9fd2c",
   "metadata": {
    "tags": []
   },
   "outputs": [
    {
     "name": "stdout",
     "output_type": "stream",
     "text": [
      "What nationality were the two friends who served as a pivotal influence in Frédéric's life while in Paris? Two Polish friends in Paris were also to play important roles in Chopin's life there.\n"
     ]
    },
    {
     "data": {
      "text/plain": [
       "['His influence on the brotherhood permeated nearly every aspect of Dominican life.',\n",
       " 'Famous musicians include Władysław Szpilman and Frédéric Chopin.',\n",
       " \"The thoughts, ideas and concepts developed at this period of life greatly influence one's future life, playing a major role in character and personality formation.\",\n",
       " 'Just in the last two decades,[when?]',\n",
       " \"Two Polish friends in Paris were also to play important roles in Chopin's life there.\",\n",
       " \"It first gained influence in England and France; in England, Sir William Hamilton's excavations at Pompeii and other sites, the influence of the Grand Tour and the work of William Chambers and Robert Adam, was pivotal in this regard.\",\n",
       " 'On his way back to Paris, he met old friends from Warsaw, the Wodzińskis.',\n",
       " \"[note 4] He served in Valence and Auxonne until after the outbreak of the Revolution in 1789, and took nearly two years' leave in Corsica and Paris during this period.\",\n",
       " \"The CPY's influence on the political life of the Kingdom of Yugoslavia was growing rapidly.\",\n",
       " 'He played more frequently at salons, but preferred playing at his own Paris apartment for small groups of friends.']"
      ]
     },
     "execution_count": 43,
     "metadata": {},
     "output_type": "execute_result"
    }
   ],
   "source": [
    "i = 1000\n",
    "tq = get_words(questions[i])\n",
    "print(questions[i], sentences[q2s[i]])\n",
    "results = get_best_sents(questions[i], bm25, 10)\n",
    "[sentences[i] for i in results]"
   ]
  },
  {
   "cell_type": "code",
   "execution_count": null,
   "id": "7f50ae71-a7f4-444c-a9d2-458c96b3965b",
   "metadata": {
    "tags": []
   },
   "outputs": [
    {
     "name": "stderr",
     "output_type": "stream",
     "text": [
      " 36%|███▌      | 31877/89731 [1:28:14<2:53:12,  5.57it/s]"
     ]
    }
   ],
   "source": [
    "import json\n",
    "from tqdm import tqdm\n",
    "import concurrent.futures\n",
    "\n",
    "N_NEG_SAMPLES = 10\n",
    "triples = []\n",
    "\n",
    "def process_question(q_idx, question, q2s, sentences, bm25):\n",
    "    if q_idx in q2s:\n",
    "        correct_sentence_idxs = q2s[q_idx]\n",
    "        for correct_sentence_idx in correct_sentence_idxs:\n",
    "            correct_sentence = sentences[correct_sentence_idx]\n",
    "            neg_sentences_idx = get_best_sents(question, bm25, N_NEG_SAMPLES)\n",
    "            neg_sentences = []\n",
    "            for neg_s in neg_sentences_idx:\n",
    "                if sentences[neg_s] != correct_sentence:\n",
    "                    neg_sentences.append(sentences[neg_s])\n",
    "            neg_sentences = list(set(neg_sentences))\n",
    "\n",
    "            for neg_sent in neg_sentences:\n",
    "                triples.append({'question': question, 'pos_sentence': correct_sentence, 'neg_sentence': neg_sent})\n",
    "\n",
    "\n",
    "# Use ThreadPoolExecutor for parallel processing\n",
    "with concurrent.futures.ThreadPoolExecutor(max_workers=8) as executor:\n",
    "    # tqdm doesn't work well with multithreading, so remove it if needed\n",
    "    futures = [executor.submit(process_question, q_idx, question, q2s, sentences, bm25) for q_idx, question in tqdm(enumerate(questions))]\n",
    "\n",
    "    # Wait for all threads to finish\n",
    "    concurrent.futures.wait(futures)\n",
    "\n",
    "# Dump the result to a file\n",
    "with open('pt-br-squad-1.1-hard-neg.json', 'w') as fout:\n",
    "    json.dump(triples, fout)"
   ]
  },
  {
   "cell_type": "code",
   "execution_count": 110,
   "id": "55e0e0b0-1514-43c5-aad9-bcbb29916f09",
   "metadata": {
    "collapsed": true,
    "jupyter": {
     "outputs_hidden": true
    },
    "tags": []
   },
   "outputs": [
    {
     "data": {
      "text/plain": [
       "[{'question': 'When did Beyonce start becoming popular?',\n",
       "  'pos_sentence': \"Born and raised in Houston, Texas, she performed in various singing and dancing competitions as a child, and rose to fame in the late 1990s as lead singer of R&B girl-group Destiny's Child.\",\n",
       "  'neg_sentence': 'About the time of Damascene, the public celebration of the \"Conception of St. Ann [i.e., of the Theotokos in her womb]\" was becoming popular.'},\n",
       " {'question': 'When did Beyonce start becoming popular?',\n",
       "  'pos_sentence': \"Born and raised in Houston, Texas, she performed in various singing and dancing competitions as a child, and rose to fame in the late 1990s as lead singer of R&B girl-group Destiny's Child.\",\n",
       "  'neg_sentence': 'His original name is unknown, but it seems that he was absorbed by the more popular Apollo, who stood by the virgin \"Mistress of the Animals\", becoming her brother.'},\n",
       " {'question': 'When did Beyonce start becoming popular?',\n",
       "  'pos_sentence': \"Born and raised in Houston, Texas, she performed in various singing and dancing competitions as a child, and rose to fame in the late 1990s as lead singer of R&B girl-group Destiny's Child.\",\n",
       "  'neg_sentence': 'Electric recording which developed during the time that early radio was becoming popular (1925) benefited from the microphones and amplifiers used in radio studios.'},\n",
       " {'question': 'When did Beyonce start becoming popular?',\n",
       "  'pos_sentence': \"Born and raised in Houston, Texas, she performed in various singing and dancing competitions as a child, and rose to fame in the late 1990s as lead singer of R&B girl-group Destiny's Child.\",\n",
       "  'neg_sentence': 'This is more than just \"foreign\" music, television or film becoming popular with young people, but that popular culture changing their own expectations of life and their desire for their own country to become more like the foreign country depicted.'},\n",
       " {'question': 'When did Beyonce start becoming popular?',\n",
       "  'pos_sentence': \"Born and raised in Houston, Texas, she performed in various singing and dancing competitions as a child, and rose to fame in the late 1990s as lead singer of R&B girl-group Destiny's Child.\",\n",
       "  'neg_sentence': 'In September 2010, West wrote a series of apologetic tweets addressed to Swift including \"Beyonce didn\\'t need that.'}]"
      ]
     },
     "execution_count": 110,
     "metadata": {},
     "output_type": "execute_result"
    }
   ],
   "source": [
    "triples[:5]"
   ]
  },
  {
   "cell_type": "code",
   "execution_count": null,
   "id": "fc0dfcbb-7ad3-4b9b-90b8-e9388d1538a3",
   "metadata": {},
   "outputs": [],
   "source": []
  },
  {
   "cell_type": "code",
   "execution_count": null,
   "id": "31b5b0a5-ec6a-4b14-b91c-31426ad44121",
   "metadata": {},
   "outputs": [],
   "source": []
  },
  {
   "cell_type": "code",
   "execution_count": null,
   "id": "9ece1bf9-aafe-4e67-bb7e-ad15fe99e8a9",
   "metadata": {},
   "outputs": [],
   "source": []
  },
  {
   "cell_type": "code",
   "execution_count": null,
   "id": "d337d035-51f5-4dc7-abd7-1e9dbaa014a5",
   "metadata": {},
   "outputs": [],
   "source": []
  }
 ],
 "metadata": {
  "kernelspec": {
   "display_name": "qa-generator",
   "language": "python",
   "name": "qagenerator"
  },
  "language_info": {
   "codemirror_mode": {
    "name": "ipython",
    "version": 3
   },
   "file_extension": ".py",
   "mimetype": "text/x-python",
   "name": "python",
   "nbconvert_exporter": "python",
   "pygments_lexer": "ipython3",
   "version": "3.9.13"
  }
 },
 "nbformat": 4,
 "nbformat_minor": 5
}
