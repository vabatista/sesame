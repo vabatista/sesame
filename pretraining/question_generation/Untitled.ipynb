{
 "cells": [
  {
   "cell_type": "code",
   "execution_count": 1,
   "id": "af459f49-f9aa-43e1-95ec-b8578aa4711e",
   "metadata": {},
   "outputs": [],
   "source": [
    "import torch\n",
    "from transformers import T5Tokenizer"
   ]
  },
  {
   "cell_type": "code",
   "execution_count": 4,
   "id": "6d335db7-43e2-4fe0-9cfd-c3770d30562a",
   "metadata": {},
   "outputs": [],
   "source": [
    "path_to_tokenizer = '../../../question_generation/t5_qg_tokenizer/'\n",
    "tokenizer = T5Tokenizer.from_pretrained(path_to_tokenizer, legacy=False)"
   ]
  },
  {
   "cell_type": "code",
   "execution_count": 9,
   "id": "36093aa8-1ead-4771-9a09-6ac27fec7a91",
   "metadata": {},
   "outputs": [],
   "source": [
    "bin_train_data = torch.load('../../../question_generation/data/train_data_multi_t5_ptbr_multi.pt')\n",
    "#bin_valid_data = torch.load('../../../question_generation/data/valid_data_multi_t5_ptbr_multi.pt')"
   ]
  },
  {
   "cell_type": "code",
   "execution_count": 12,
   "id": "f5ee5703-b0a9-4d1d-9813-a8c24c8c636a",
   "metadata": {},
   "outputs": [],
   "source": [
    "def print_example(data, i):\n",
    "    input_ids = data[i]['source_ids']\n",
    "    target_ids = data[i]['target_ids']\n",
    "    print('\\nINPUT\\n', tokenizer.decode(input_ids, skip_special_tokens=True))\n",
    "    print('TARGET\\n', tokenizer.decode(target_ids, skip_special_tokens=True))"
   ]
  },
  {
   "cell_type": "code",
   "execution_count": 13,
   "id": "ff53d75e-abc6-4319-9a60-5fcc14b35341",
   "metadata": {},
   "outputs": [
    {
     "name": "stdout",
     "output_type": "stream",
     "text": [
      "\n",
      "INPUT\n",
      " gerar pergunta: Atkins, ex-membro da <hl> Cybotron <hl>, lançou o Modelo 500 \"No UFOs\" em 1985, que se tornou um sucesso regional, seguido por dezenas de faixas no Transmat, Metroplex e Fragile. Uma das mais incomuns foi \"Strings of Life\", de Derrick May, uma família mais sombria e intelectual. \"Techno-Scratch\" foi lançado pelos Knights Of The Turntable em 1984, que tinha um som techno semelhante ao Cybotron. O gerente da boate Factory e o co-proprietário da Haçienda, Tony Wilson, também promoveram a cultura acid house em seu programa semanal de TV. O Midlands também abraçou a cena doméstica do final dos anos 80 com festas ilegais e mais clubes de dança legais, como o The Hummingbird.\n",
      "TARGET\n",
      " atkins era um ex-membro de que grupo musical?\n",
      "\n",
      "INPUT\n",
      " extrair resposta: <hl> Devido ao papel proeminente da cidade na Revolução Americana, vários locais históricos relacionados a esse período são preservados como parte do Parque Histórico Nacional de Boston. <hl> Muitos são encontrados ao longo da Trilha da Liberdade, marcada por uma linha vermelha de tijolos embutidos no chão. A cidade também abriga vários museus de arte, incluindo o Museu de Belas Artes e o Museu Isabella Stewart Gardner. O Instituto de Arte Contemporânea está instalado em um edifício contemporâneo projetado por Diller Scofidio + Renfro no Seaport District. O campus da Universidade de Massachusetts em Boston, em Columbia Point, abriga a Biblioteca John F. Kennedy. O Boston Athenaeum (uma das bibliotecas independentes mais antigas dos Estados Unidos), o Museu Infantil de Boston, o Bull & Finch Pub (cujo prédio é conhecido pelo programa de televisão Cheers), o Museum of Science e o New England Aquarium estão dentro da cidade.\n",
      "TARGET\n",
      " vários locais históricos <sep>\n",
      "\n",
      "INPUT\n",
      " pergunta: Que tipo de música é conhecido por John Lee Hooker? contexto: Na década de 1940, o artista de blues de Detroit John Lee Hooker tornou-se um residente de longa data no bairro de Delray, no sudoeste da cidade. Hooker, entre outros músicos de blues importantes, migrou de sua casa no Mississippi, levando o blues do Delta para cidades do norte como Detroit. Hooker gravou para a Fortune Records, a maior gravadora de blues / soul pré-Motown. Durante a década de 1950, a cidade se tornou um centro de jazz, com estrelas se apresentando no bairro Black Bottom. Entre os músicos emergentes de jazz da década de 1960, destacam-se: o trompetista Donald Byrd, que participou de Cass Tech e se apresentou com Art Blakey e Jazz Messengers no início de sua carreira, e o saxofonista Pepper Adams, que teve uma carreira solo e acompanhou Byrd em vários álbuns. O Graystone International Jazz Museum documenta o jazz em Detroit.\n",
      "TARGET\n",
      " blues\n",
      "\n",
      "INPUT\n",
      " extrair resposta: Nos últimos anos, foram descobertas quantidades significativas de gás natural offshore na área conhecida como Afrodite, na zona econômica exclusiva de Chipre (ZEE), a cerca de 175 quilômetros ao sul de Limassol, a 33 ° 5′40 ′′ N e 32 ° 59. ′ 0 ′′ E. No entanto, as empresas de perfuração offshore da Turquia acessam os recursos de gás natural e petróleo desde 2013. Chipre demarcou sua fronteira marítima com o Egito em 2003 e com o Líbano em 2007. <hl> Chipre e Israel demarcaram sua fronteira marítima em 2010 e em agosto de 2011, nos EUA. <hl> Noble Energy, com sede em São Paulo, firmou um acordo de compartilhamento de produção com o governo cipriota em relação ao desenvolvimento comercial do bloco.\n",
      "TARGET\n",
      " Israel <sep>\n",
      "\n",
      "INPUT\n",
      " gerar pergunta: Em 2011, documentos obtidos pelo WikiLeaks revelaram que Beyoncé foi um dos muitos artistas que se apresentaram para a família do governante líbio Muammar Gaddafi. A Rolling Stone informou que a indústria da música os instava a devolver o dinheiro que ganhavam nos shows; uma porta-voz de Beyoncé confirmou mais tarde ao The Huffington Post que doou o dinheiro ao <hl> Fundo Clinton Bush Haiti. <hl> Mais tarde naquele ano, ela se tornou a primeira artista solo a liderar a etapa principal da Pirâmide no Glastonbury Festival de 2011 em mais de vinte anos, e foi nomeada a artista mais bem paga no mundo por minuto.\n",
      "TARGET\n",
      " Para qual organização Beyoncé doou seu pagamento pela apresentação privada?\n",
      "\n",
      "INPUT\n",
      " pergunta: Como Lothar Wolfgang Nordheim descreve von Neumann? contexto: Lothar Wolfgang Nordheim descreveu von Neumann como a \"mente mais rápida que eu já conheci\", e Jacob Bronowski escreveu \"Ele era o homem mais inteligente que eu já conheci, sem exceção. Ele era um gênio\". George Pólya, cujas aulas na ETH Zürich von Neumann assistiram como estudante, disse que \"Johnny era o único aluno que eu já tinha medo. Se, no decorrer de uma palestra, afirmasse um problema não resolvido, as chances eram de que ele tivesse chegado até mim.\" no final da palestra, com a solução completa rabiscada em um pedaço de papel \". Halmos narra uma história contada por Nicholas Metropolis, sobre a velocidade dos cálculos de von Neumann, quando alguém pediu a von Neumann para resolver o famoso quebra-cabeça da mosca:\n",
      "TARGET\n",
      " \"mente mais rápida que eu já conheci\",\n",
      "\n",
      "INPUT\n",
      " pergunta: Em 14 de outubro, quantos bombardeiros alemães atacaram? contexto: Em 14 de outubro, o ataque noturno mais pesado até o momento viu 380 bombardeiros alemães da Luftflotte 3 atingirem Londres. Cerca de 200 pessoas foram mortas e outras 2.000 ficaram feridas. As defesas antiaéreas britânicas (general Frederick Alfred Pile) dispararam 8.326 tiros e abateram apenas dois bombardeiros. Em 15 de outubro, os bombardeiros retornaram e cerca de 900 incêndios foram iniciados com a mistura de 415 toneladas curtas (376 t) de alto explosivo e 11 toneladas curtas (10,0 t) de incendiários. Cinco linhas ferroviárias principais foram cortadas em Londres e o material circulante danificado.\n",
      "TARGET\n",
      " 380\n",
      "\n",
      "INPUT\n",
      " extrair resposta: <hl> No início do século 20, os criadores japoneses começaram a se reproduzir seletivamente para aumentar a produção de ovos. <hl> Em 1940, a indústria de ovos de codorna estava florescendo, mas os eventos da Segunda Guerra Mundial levaram à perda completa de linhas de codornas criadas para o tipo de música, assim como quase todas aquelas criadas para a produção de ovos. Após a guerra, as poucas codornas domesticadas sobreviventes foram usadas para reconstruir a indústria, e todas as linhas comerciais e de laboratório atuais são consideradas originárias dessa população. As aves modernas podem depositar mais de 300 ovos por ano e países como Japão, Índia, China, Itália, Rússia e Estados Unidos estabeleceram indústrias comerciais japonesas de codorna. Codornas japonesas também são usadas em pesquisas biomédicas em áreas como genética, embriologia, nutrição, fisiologia, patologia e estudos de toxicidade. Essas codornas estão intimamente relacionadas às codornas comuns, e muitas aves híbridas jovens são liberadas na natureza todos os anos para repor as populações selvagens em declínio.\n",
      "TARGET\n",
      " criadores japoneses começaram a se reproduzir seletivamente para aumentar a produção de ovos <sep>\n",
      "\n",
      "INPUT\n",
      " extrair resposta: Karlheinz Brandenburg usou uma gravação em CD da música de Suzanne Vega \"Tom's Diner\" para avaliar e refinar o algoritmo de compressão MP3. Essa música foi escolhida devido à sua natureza quase monofônica e amplo conteúdo espectral, facilitando a audição de imperfeições no formato de compactação durante as reproduções. Alguns se referem a Suzanne Vega como \"A mãe do MP3\". Essa faixa em particular tem uma propriedade interessante, pois os dois canais são quase, mas não completamente, iguais, levando a um caso em que a Depressão de Nível de Mascaramento Binaural causa desmascaramento espacial de artefatos de ruído, a menos que o codificador reconheça adequadamente a situação e aplique correções semelhantes àquelas detalhado no modelo psicoacústico MPEG-2 AAC. Alguns trechos de áudio mais críticos (glockenspiel, triângulo, acordeão etc.) <hl> foram retirados do CD de referência EBU V3 / SQAM e foram usados por engenheiros de som profissionais para avaliar a qualidade subjetiva dos formatos de áudio MPEG. <hl>\n",
      "TARGET\n",
      " EBU V3 / SQAM <sep>\n",
      "\n",
      "INPUT\n",
      " pergunta: Para quem Chopin tocou enquanto cantava? contexto: No final de novembro, Chopin retornou a Paris. Ele passou o inverno em doenças incessantes, mas deu aulas ocasionais e foi visitado por amigos, incluindo Delacroix e Franchomme. Ocasionalmente ele tocava, ou acompanhava o canto de Delfina Potocka, para seus amigos. Durante o verão de 1849, seus amigos encontraram para ele um apartamento em Chaillot, fora do centro da cidade, para o qual o aluguel era secretamente subsidiado por uma admiradora, a princesa Obreskoff. Aqui em junho de 1849, ele foi visitado por Jenny Lind.\n",
      "TARGET\n",
      " Delfina Potocka\n",
      "\n",
      "INPUT\n",
      " pergunta: Qual foi a reclamação dos editores do Broad Recognition? contexto: Uma década em co-educação, agressão estudantil desenfreada e assédio por parte da faculdade tornou-se o ímpeto do processo pioneiro Alexander v. Yale. Embora sem êxito nos tribunais, o raciocínio jurídico por trás do caso mudou o cenário da lei de discriminação sexual e resultou no estabelecimento do Conselho de Queixas de Yale e do Centro de Mulheres de Yale. Em março de 2011, uma queixa do Título IX foi registrada contra Yale por estudantes e recém-formados, incluindo editores da revista feminista de Yale Broad Recognition, alegando que a universidade tinha um clima sexual hostil. Em resposta, a universidade formou um comitê diretor do Título IX para tratar de queixas de má conduta sexual.\n",
      "TARGET\n",
      " a universidade tinha um clima sexual hostil\n",
      "\n",
      "INPUT\n",
      " extrair resposta: <hl> As mudanças incluíram uma nova paleta de cores corporativa, pequenas modificações no logotipo da GE, uma nova fonte personalizada (GE Inspira) e um novo slogan, \"Imagination at work\", composto por David Lucas, para substituir o slogan \"We Bring Good Things to Vida \"usada desde 1979. <hl> O padrão exige que muitas manchetes sejam minúsculas e adiciona\" espaço em branco \"visual a documentos e publicidade. As mudanças foram projetadas por Wolff Olins e são usadas no marketing, na literatura e no site da GE. Em 2014, uma segunda família de tipos de letra foi introduzida: GE Sans e Serif pela Bold Monday criada sob direção de arte por Wolff Olins.\n",
      "TARGET\n",
      " David Lucas <sep> 1979 <sep>\n",
      "\n",
      "INPUT\n",
      " pergunta: Qual era o nome da campanha de mudança da Dell? contexto: A Dell anunciou uma campanha de mudança chamada \"Dell 2.0\", reduzindo o número de funcionários e diversificando os produtos da empresa. Enquanto presidente do conselho depois de deixar o cargo de CEO, Michael Dell ainda teve uma participação significativa na empresa durante os anos de Rollins como CEO. Com o retorno de Michael Dell como CEO, a empresa viu mudanças imediatas nas operações, o êxodo de muitos vice-presidentes seniores e novos funcionários trazidos de fora da empresa. Michael Dell anunciou uma série de iniciativas e planos (parte da iniciativa \"Dell 2.0\") para melhorar o desempenho financeiro da empresa. Isso inclui a eliminação dos bônus de 2006 para funcionários com alguns prêmios discricionários, a redução no número de gerentes que se reportam diretamente a Michael Dell de 20 para 12 e a redução da \"burocracia\". Jim Schneider se aposentou como CFO e foi substituído por Donald Carty, pois a empresa sofreu uma investigação da SEC por suas práticas contábeis.\n",
      "TARGET\n",
      " Dell 2.0\n",
      "\n",
      "INPUT\n",
      " extrair resposta: <hl> A tradução é um grande obstáculo ao comparar diferentes culturas. <hl> Muitos termos em inglês não possuem equivalentes em outros idiomas, enquanto conceitos e palavras de outros idiomas não são refletidos no idioma inglês. Obstáculos à tradução e ao vocabulário não se limitam ao idioma inglês. A linguagem pode forçar os indivíduos a se identificarem com um rótulo que possa ou não refletir com precisão sua verdadeira orientação sexual. A linguagem também pode ser usada para sinalizar orientação sexual para outras pessoas. O significado das palavras referentes às categorias de orientação sexual são negociadas nos meios de comunicação de massa em relação à organização social. Novas palavras podem ser usadas para descrever novos termos ou melhor para interpretar complexas interpretações da orientação sexual. Outras palavras podem captar novas camadas ou significado. Por exemplo, os termos heterossexuais espanhóis marido e mulher para \"marido\" e \"esposa\", respectivamente, foram recentemente substituídos na Espanha pelos termos neutros de gênero cónyuges ou consortes que significam \"cônjuges\".\n",
      "TARGET\n",
      " tradução <sep>\n",
      "\n",
      "INPUT\n",
      " pergunta: Por que a Espanha deu parte da Catalunha à França? contexto: Com o Tratado dos Pirenéus (1659), a Espanha cedeu a parte norte da Catalunha à França, e logo depois as variedades catalãs locais ficaram sob a influência do francês, que em 1700 se tornou a única língua oficial da região.\n",
      "TARGET\n",
      " Tratado dos Pirenéus\n",
      "\n",
      "INPUT\n",
      " gerar pergunta: <hl> Maximilian <hl> ficou profundamente insatisfeito com a decisão do general Bazaine de abandonar a capital do estado de Chihuahua e imediatamente ordenou que Agustín B. Billaut recapturasse a cidade. Em 11 de dezembro de 1865, Billaut, com uma força de 500 homens, assumiu o controle da cidade. Em 31 de janeiro de 1866, Billaut recebeu ordem de deixar Chihuahua, mas deixou para trás 500 homens para manter o controle. No auge de seu poder, as forças imperialistas controlavam todos, exceto quatro estados no México; os únicos estados que mantiveram forte oposição aos franceses foram: Guerrero, Chihuahua, Sonora e Baja California.\n",
      "TARGET\n",
      " Quem ficou profundamente insatisfeito com a decisão de Bazaine de abandonar Chihuahua?\n",
      "\n",
      "INPUT\n",
      " gerar pergunta: Em 1903, Hermann Emil Fischer e Joseph von Mering revelaram sua descoberta de que o ácido dietilbarbitúrico, formado a partir da reação do ácido dietilmalônico, oxicloreto de fósforo e uréia, induz o sono em cães. A descoberta foi patenteada e licenciada para os produtos farmacêuticos Bayer, que comercializaram o composto sob o nome comercial <hl> Veronal <hl> como um auxílio para dormir a partir de 1904. Investigações sistemáticas do efeito de mudanças estruturais na potência e duração da ação levaram à descoberta do fenobarbital na Bayer em 1911 e a descoberta de sua potente atividade antiepilética em 1912. O fenobarbital estava entre os medicamentos mais amplamente utilizados para o tratamento da epilepsia na década de 1970 e, a partir de 2014, permanece na lista de medicamentos essenciais das Organizações de Saúde Mundial. As décadas de 1950 e 1960 viram uma maior conscientização sobre as propriedades viciantes e o potencial de abuso de barbitúricos e anfetaminas e levaram a crescentes restrições ao uso e à crescente supervisão governamental dos prescritores. Hoje, a anfetamina é amplamente restrita ao uso no tratamento do transtorno do déficit de atenção e o fenobarbital no tratamento da epilepsia.\n",
      "TARGET\n",
      " Qual foi o primeiro nome comercial do ácido dietilbarbitúrico?\n",
      "\n",
      "INPUT\n",
      " pergunta: O hidrogênio representa uma reserva de energia potencial que pode ser liberada por quê? contexto: Na cosmologia e astronomia, os fenômenos das estrelas, nova, supernova, quasares e explosões de raios gama são as transformações energéticas de maior produção do universo. Todos os fenômenos estelares (incluindo a atividade solar) são movidos por vários tipos de transformações de energia. A energia nessas transformações é do colapso gravitacional da matéria (geralmente hidrogênio molecular) em várias classes de objetos astronômicos (estrelas, buracos negros etc.) ou da fusão nuclear (de elementos mais leves, principalmente hidrogênio). A fusão nuclear de hidrogênio no Sol também libera outra reserva de energia potencial criada na época do Big Bang. Naquela época, de acordo com a teoria, o espaço se expandia e o universo esfriava muito rapidamente para que o hidrogênio se fundisse completamente em elementos mais pesados. Isso significava que o hidrogênio representa uma reserva de energia potencial que pode ser liberada pela fusão. Esse processo de fusão é desencadeado pelo calor e pela pressão gerados pelo colapso gravitacional das nuvens de hidrogênio quando elas produzem estrelas, e parte da energia da fusão é então transformada em luz solar.\n",
      "TARGET\n",
      " fusão\n",
      "\n",
      "INPUT\n",
      " pergunta: Como as igrejas foram chamadas antes do século 19? contexto: Os primeiros presbiterianos tiveram o cuidado de distinguir entre a \"igreja\", que referia os membros, e a \"casa de reunião\", que era o prédio em que a igreja se encontrava. Até o final do século 19, pouquíssimos presbiterianos se referiam a seus edifícios como \"igrejas\". Os presbiterianos acreditavam que as casas de reunião (agora chamadas igrejas) são edifícios para apoiar a adoração a Deus. Em alguns casos, a decoração era austera para não prejudicar a adoração. As primeiras casas de reunião presbiterianas eram extremamente simples. Nenhum vitral, nenhum mobiliário elaborado e nenhuma imagem foi encontrada na casa de reuniões. O púlpito, muitas vezes elevado, de modo a ser acessível apenas por uma escada, era a peça central do edifício.\n",
      "TARGET\n",
      " casa de reunião\n",
      "\n",
      "INPUT\n",
      " pergunta: Quando as cores azul e vermelho foram usadas para um jogo do Barcelona? contexto: As cores azul e vermelho da camisa foram usadas pela primeira vez em uma partida contra a Hispânia em 1900. Várias teorias concorrentes foram apresentadas para o design azul e vermelho da camisa do Barcelona. O filho do primeiro presidente, Arthur Witty, afirmou que era a idéia de seu pai, pois as cores eram as mesmas da equipe da Merchant Taylor's School. Outra explicação, segundo o autor Toni Strubell, é que as cores são da Primeira República de Robespierre. Na Catalunha, a percepção comum é de que as cores foram escolhidas por Joan Gamper e são da equipe da sua casa, o FC Basel. As cores de mudança mais usadas pelo clube foram amarelo e laranja. Também foi utilizado um kit visitante com as listras vermelha e amarela da bandeira da Catalunha.\n",
      "TARGET\n",
      " 1900\n"
     ]
    }
   ],
   "source": [
    "import random\n",
    "for i in range(20):\n",
    "    n = random.randint(0, len(bin_train_data))\n",
    "    print_example(bin_train_data, n)"
   ]
  },
  {
   "cell_type": "code",
   "execution_count": 5,
   "id": "f7c287d0-b2be-4c8c-aec3-e9d326b57daf",
   "metadata": {},
   "outputs": [
    {
     "name": "stdout",
     "output_type": "stream",
     "text": [
      "/work/u4vn/git/phd-thesis/question_generation\n"
     ]
    }
   ],
   "source": [
    "!pwd\n"
   ]
  },
  {
   "cell_type": "code",
   "execution_count": 8,
   "id": "bd4972c4-b93f-43ad-ad3f-1df093b86410",
   "metadata": {},
   "outputs": [
    {
     "name": "stdout",
     "output_type": "stream",
     "text": [
      "total 2,4G\n",
      "-rw-r--r--. 1 u4vn taiapocd 2,2G Ago  2 14:48 train_data_multi_t5_ptbr_multi.pt\n",
      "-rw-r--r--. 1 u4vn taiapocd 260M Ago  2 14:48 valid_data_multi_t5_ptbr_multi.pt\n"
     ]
    }
   ],
   "source": [
    "!ls -lh /work/u4vn/question_generation/data"
   ]
  },
  {
   "cell_type": "code",
   "execution_count": null,
   "id": "eaa356fe-9f1c-478b-84d3-a29820231eac",
   "metadata": {},
   "outputs": [],
   "source": []
  }
 ],
 "metadata": {
  "kernelspec": {
   "display_name": "Python 3 (ipykernel)",
   "language": "python",
   "name": "python3"
  },
  "language_info": {
   "codemirror_mode": {
    "name": "ipython",
    "version": 3
   },
   "file_extension": ".py",
   "mimetype": "text/x-python",
   "name": "python",
   "nbconvert_exporter": "python",
   "pygments_lexer": "ipython3",
   "version": "3.11.4"
  }
 },
 "nbformat": 4,
 "nbformat_minor": 5
}
