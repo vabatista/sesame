{
 "cells": [
  {
   "cell_type": "code",
   "execution_count": 1,
   "id": "59545611-42ca-4123-8619-040f9a56508f",
   "metadata": {},
   "outputs": [
    {
     "name": "stdout",
     "output_type": "stream",
     "text": [
      "/work/u4vn/git/phd-thesis/question_generation\n"
     ]
    }
   ],
   "source": [
    "!pwd"
   ]
  },
  {
   "cell_type": "code",
   "execution_count": 2,
   "id": "ed1a8a72-43d3-40cf-ab26-f5a5175ecf82",
   "metadata": {},
   "outputs": [],
   "source": [
    "import transformers"
   ]
  },
  {
   "cell_type": "code",
   "execution_count": 1,
   "id": "581983fc-c122-4153-bb80-54d1ffb8ac5d",
   "metadata": {},
   "outputs": [
    {
     "name": "stdout",
     "output_type": "stream",
     "text": [
      "instanciando pipeline\n"
     ]
    }
   ],
   "source": [
    "from pipelines import pipeline\n",
    "\n",
    "path_to_checkpoint = '../../../question_generation/large/checkpoint-3791/'\n",
    "path_to_tokenizer = '../../../question_generation/t5_qg_tokenizer/'\n",
    "nlp = pipeline(\"question-generation\", #\"multitask-qa-qg\", \n",
    "               model=path_to_checkpoint, \n",
    "               tokenizer=path_to_tokenizer, \n",
    "               ans_model=path_to_checkpoint,\n",
    "               ans_tokenizer=path_to_tokenizer,\n",
    "               qg_format='highlight')\n"
   ]
  },
  {
   "cell_type": "code",
   "execution_count": 2,
   "id": "c8868f69-7247-405b-8cff-a8323cccf1e5",
   "metadata": {},
   "outputs": [
    {
     "data": {
      "text/plain": [
       "[{'answer': 'manhã desta segunda-feira',\n",
       "  'question': 'Quem foi o presidente Jean Paul Prates?'},\n",
       " {'answer': 'Hibernado', 'question': 'Quem foi o início de 2020, o prédio?'},\n",
       " {'answer': '480', 'question': 'Qual é o nome do todo serão de quê?'},\n",
       " {'answer': 'Região nobre da cidade',\n",
       "  'question': 'O que o bairro tem fácil acesso seja por carro, ciclovias ou pelo novo sistema de transporte público BRT?'}]"
      ]
     },
     "execution_count": 2,
     "metadata": {},
     "output_type": "execute_result"
    }
   ],
   "source": [
    "text1 = \"\"\"Em evento na manhã desta segunda-feira (03/07), o presidente Jean Paul Prates deu as \n",
    "boas-vindas à força de trabalho, que agora volta a ter o Torre Pituba, em Salvador, \n",
    "como sede da companhia no estado da Bahia. Hibernado desde o início de 2020, o prédio, \n",
    "ainda este mês de julho, será novamente ocupado pelas equipes das áreas administrativas que \n",
    "estavam atuando em um coworking na capital baiana e na unidade de Taquipe, na cidade de \n",
    "São Sebastião do Passé, a 70 km de Salvador.\n",
    "Ao todo serão cerca de 480 pessoas que, inicialmente, reocuparão os postos de \n",
    "trabalhos disponíveis na unidade, localizada no Itaigara. Região nobre da cidade, o bairro tem fácil acesso seja por carro, ciclovias ou pelo novo sistema de transporte público BRT, que foi recentemente implantado. O local ainda é bem servido por shoppings, restaurantes, clínicas médicas e uma diversa gama de serviços, o que torna ainda mais atrativo e dinâmico para os funcionários da companhia que estão na Bahia.\"\"\"\n",
    "\n",
    "nlp(text1)\n"
   ]
  },
  {
   "cell_type": "code",
   "execution_count": null,
   "id": "4b3f63ab-5bb9-4909-9762-eac681990980",
   "metadata": {},
   "outputs": [],
   "source": []
  },
  {
   "cell_type": "code",
   "execution_count": 3,
   "id": "270c05f3-b17e-464e-be3f-fcee63ead123",
   "metadata": {},
   "outputs": [],
   "source": [
    "text2 = \"\"\"A Volkswagen anunciou a chegada do ID.Buzz, a Kombi elétrica, ao Brasil. Em campanha publicitária, a marca alemã usou tecnologia de inteligência artificial \n",
    "para criar um comercial com a cantora Elis Regina, \n",
    "falecida em 1982, e a sua filha, a também cantora Maria Rita. Ambas aparecem cantando juntas \n",
    "a música 'Como Nossos Pais', composta por Belchior e eternizada por Elis.\n",
    "O vídeo, que já foi divulgado nas redes sociais da marca, foi exibido pela primeira vez em comemoração de 70 anos da Volkswagen no ginásio do Ibirapuera, em São Paulo.\n",
    "Diante de 5 mil pessoas, entre funcionários e convidados, a apresentação ainda contou com a presença de Maria Rita, que também cantou ao vivo a canção e se emocionou bastante - \n",
    "a cantora chegou a chorar abraçada com Ciro Possobom, CEO da VW do Brasil.\n",
    "A técnica utilizada, conhecida também como \"deep fake\", aplica IA para criar conteúdos realistas. No caso, foi produzida pela agência AlmapBBDO.\"\"\""
   ]
  },
  {
   "cell_type": "code",
   "execution_count": 4,
   "id": "a6bc76ab-74d1-44a0-b1f8-2234e428f9fe",
   "metadata": {},
   "outputs": [
    {
     "data": {
      "text/plain": [
       "[{'answer': 'ID.Buzz', 'question': 'O que a Volkswagen anunciou a chegada?'},\n",
       " {'answer': 'a marca alemã usou tecnologia de inteligência artificial',\n",
       "  'question': 'Qual foi o nome do comercial para criar um comercial com a cantora Elis Regina, falecida em 1982, e a sua filha?'},\n",
       " {'answer': 'São Paulo',\n",
       "  'question': 'O que foi exibido pela primeira vez em comemoração de 70 anos da Volkswagen no ginásio do Ibirapuera?'},\n",
       " {'answer': 'fake',\n",
       "  'question': 'O que a técnica utilizada, como \"deep para criar conteúdos realistas?'},\n",
       " {'answer': 'agência AlmapBBDO', 'question': 'Qual é o nome do caso de quê?'}]"
      ]
     },
     "execution_count": 4,
     "metadata": {},
     "output_type": "execute_result"
    }
   ],
   "source": [
    "nlp(text2)"
   ]
  },
  {
   "cell_type": "code",
   "execution_count": 5,
   "id": "0835af22-db8a-4c0d-a9a1-1b25e49d1301",
   "metadata": {},
   "outputs": [],
   "source": [
    "text3 = \"\"\"\n",
    "O Prefeito de Belo Horizonte, Fuad Noman (PSD), recebeu, na manhã desta quarta-feira (5/7) o Projeto de Lei 538/2023, que prevê o pagamento de subsídio de R$ 512 milhões às empresas de ônibus de Belo Horizonte e viabiliza a redução do preço das tarifas de ônibus, reajustadas de R$ 4,50 para R$ 6 no fim de abril.\n",
    "De acordo com Fuad, o novo valor da tarifa deve valer a partir deste sábado (8/7). O texto deve ser sancionado hoje ou amanhã, conforme informado pelo prefeito. \"Esperamos que a tarifa possa cair para 4,50, no sábado. Não é possível antecipar por problemas operacionais das empresas e da própria BHTrans, que precisam modificar o sistema todo para acolher a tarifa a R$ 4,50\", disse o prefeito.\n",
    "\"\"\""
   ]
  },
  {
   "cell_type": "code",
   "execution_count": 6,
   "id": "a71a6db2-0f65-43ff-a501-e6b9aa8cf6be",
   "metadata": {},
   "outputs": [
    {
     "data": {
      "text/plain": [
       "[{'answer': 'Prefeito de Belo Horizonte, Fuad Noman',\n",
       "  'question': 'Qual é o nome da manhã desta quarta-feira (5/7?'},\n",
       " {'answer': 'sábado (8/7',\n",
       "  'question': 'Qual é o novo valor da tarifa deve valer?'},\n",
       " {'answer': 'manhã', 'question': 'O texto deve ser sancionado hoje ou a quê?'},\n",
       " {'answer': 'sábado', 'question': 'O que a tarifa possa cair para 4,50?'},\n",
       " {'answer': 'BHTrans',\n",
       "  'question': 'O que o Prefeito de Belo Horizonte é possível antecipar por problemas operacionais das empresas e da própria?'}]"
      ]
     },
     "execution_count": 6,
     "metadata": {},
     "output_type": "execute_result"
    }
   ],
   "source": [
    "nlp(text3)"
   ]
  },
  {
   "cell_type": "code",
   "execution_count": 7,
   "id": "fa5d560f-445e-4424-9cb7-05dd9cfdc528",
   "metadata": {},
   "outputs": [
    {
     "data": {
      "text/plain": [
       "[{'answer': 'g1',\n",
       "  'question': 'O Ministério das Relações Exteriores confirmou ao quê?'},\n",
       " {'answer': 'sábado',\n",
       "  'question': 'O que foi revelada em reportagem do \"Wall Street Journal\"?'},\n",
       " {'answer': 'Brasil, Índia, Indonésia, Egito, Chile e Zâmbia',\n",
       "  'question': 'Qual é o nome do jornal norte-americano?'},\n",
       " {'answer': 'o Brasil aceitará o convite',\n",
       "  'question': 'O que o Itamaraty informou nesta segunda que quê?'},\n",
       " {'answer': '4 e 9 de agosto',\n",
       "  'question': 'O que o presidente Luiz Inácio Lula da Silva deve estar na região Norte?'}]"
      ]
     },
     "execution_count": 7,
     "metadata": {},
     "output_type": "execute_result"
    }
   ],
   "source": [
    "text4 = \"\"\"\n",
    "O Ministério das Relações Exteriores confirmou ao g1 e à TV Globo nesta segunda-feira (31) que o Brasil irá à reunião convocada pela Arábia Saudita, nos dias 5 e 6 de agosto, para discutir a guerra da Ucrânia.\n",
    "A iniciativa saudita foi revelada em reportagem do \"Wall Street Journal\" no sábado (29). A reunião deve ocorrer na cidade de Jidá, na Arábia Saudita, com representantes da Ucrânia e sem representantes da Rússia.\n",
    "Segundo o jornal norte-americano, foram convidados 30 países, incluindo Brasil, Índia, Indonésia, Egito, Chile e Zâmbia.\n",
    "O Itamaraty informou nesta segunda que o Brasil aceitará o convite, mas ainda não definiu quem vai compor a delegação e representar o governo brasileiro no encontro.\n",
    "O presidente Luiz Inácio Lula da Silva deve estar na região Norte do Brasil entre os dias 4 e 9 de agosto, com compromissos que incluem a Cúpula da Amazônia.\n",
    "\"\"\"\n",
    "nlp(text4)"
   ]
  },
  {
   "cell_type": "code",
   "execution_count": 34,
   "id": "20c81dcc-c3dc-460a-b7f6-64611e895868",
   "metadata": {},
   "outputs": [
    {
     "data": {
      "text/plain": [
       "[{'answer': 'Remessa Conforme da Receita Federal',\n",
       "  'question': 'O que as empresas que aderirem voluntariamente ao programa?'},\n",
       " {'answer': 'tributação de 60% do imposto de importação',\n",
       "  'question': 'O que segue em vigor a tributação de compras?'},\n",
       " {'answer': 'O vendedor',\n",
       "  'question': 'O que é obrigado a informar ao consumidor a procedência dos produtos e o valor total da mercadoria?'},\n",
       " {'answer': 'taria da Receita Federal',\n",
       "  'question': 'O que não trata das regras de tributos estaduais?'},\n",
       " {'answer': '17%',\n",
       "  'question': 'Qual a porcentagem de Imposto sobre a Circulação de Mercadorias e Serviços (ICMS) que os estados definiram por unanimidade?'}]"
      ]
     },
     "execution_count": 34,
     "metadata": {},
     "output_type": "execute_result"
    }
   ],
   "source": [
    "text5 = \"\"\"\n",
    "As novas regras para a tributação de compras internacionais feitas pela internet passam a valer nesta terça-feira (1º).\n",
    "A medida, anunciado pelo Ministério da Fazenda no final de junho, prevê a isenção da cobrança do imposto de importação sobre compras de até US$ 50 para as empresas que aderirem voluntariamente ao programa Remessa Conforme da Receita Federal.\n",
    "Para se valer da isenção federal, a própria empresa deverá recolher o Imposto sobre a Circulação de Mercadorias e Serviços (ICMS), que é o tributo estadual — e aquelas companhias que não aderirem ao programa do Fisco continuarão sendo tributadas.\n",
    "    Entenda o que muda para o consumidor\n",
    "Veja o que dizem as novas regras:\n",
    "    As empresas que aderirem ao programa da Receita terão o benefício de isenção do imposto de importação para compras de até US$ 50;\n",
    "    Para compras acima de US$ 50, nada muda na cobrança de tributos federais. Nesses casos, segue em vigor a tributação de 60% do imposto de importação.\n",
    "    A declaração de importação e o eventual pagamento dos tributos acontecerá antes da chegada da mercadoria.\n",
    "    O vendedor é obrigado a informar ao consumidor a procedência dos produtos e o valor total da mercadoria (com inclusão dos tributos federais e estaduais).\n",
    "    A portaria da Receita Federal não trata das regras de tributos estaduais, que são de competência de cada unidade da federação.\n",
    "    Em junho, os estados definiram por unanimidade, adotar uma alíquota de 17% de Imposto sobre a Circulação de Mercadorias e Serviços (ICMS) para as compras feitas em plataformas online de varejistas internacionais.\n",
    "    As regras atuais, com isenção de imposto de importação de 60% para remessas entre pessoas físicas, continuam.\n",
    "\"\"\"\n",
    "nlp(text5)"
   ]
  },
  {
   "cell_type": "code",
   "execution_count": null,
   "id": "c38c76a8-412f-4d90-aae7-1cfbc4d18d91",
   "metadata": {},
   "outputs": [],
   "source": []
  },
  {
   "cell_type": "code",
   "execution_count": null,
   "id": "5a454107-8fcb-46c7-a88c-bd78590de84f",
   "metadata": {},
   "outputs": [],
   "source": []
  },
  {
   "cell_type": "code",
   "execution_count": null,
   "id": "13af15e9-aa87-43f6-948e-28cefe1d89e9",
   "metadata": {},
   "outputs": [],
   "source": []
  },
  {
   "cell_type": "code",
   "execution_count": null,
   "id": "8c41401a-f4fc-4952-b8ae-6945fdaa4265",
   "metadata": {},
   "outputs": [],
   "source": []
  },
  {
   "cell_type": "code",
   "execution_count": 18,
   "id": "c11b217e-bf28-4ffd-92d8-8af7db559722",
   "metadata": {},
   "outputs": [
    {
     "name": "stdout",
     "output_type": "stream",
     "text": [
      "pipeline starting...\n"
     ]
    },
    {
     "data": {
      "text/plain": [
       "[{'answer': 'Kombi elétrica',\n",
       "  'question': 'O que a Volkswagen anunciou ao Brasil? '},\n",
       " {'answer': 'inteligência artificial',\n",
       "  'question': 'Que tecnologia a marca alemã usou para criar um comercial com a Elis Regina? '},\n",
       " {'answer': 'Belchior',\n",
       "  'question': \"Quem liderou a música 'Como Nossos Pais'? \"},\n",
       " {'answer': 'São Paulo',\n",
       "  'question': 'Em que ano a Volkswagen foi exibido pela primeira vez no ginásio do Ibirapuera? '},\n",
       " {'answer': 'Diante de 5 mil pessoas, entre funcionários e convidados, a apresentação ainda contou com a presença de Maria Rita',\n",
       "  'question': 'O que aconteceu com a presença de Maria Rita em relação ao vivo a canção e se emocionou bastante? '}]"
      ]
     },
     "execution_count": 18,
     "metadata": {},
     "output_type": "execute_result"
    }
   ],
   "source": [
    "#tokenizer = T5Tokenizer.from_pretrained('../../../question_generation/t5_qg_tokenizer/')\n",
    "#model = AutoModelForSeq2SeqLM.from_pretrained('../../../question_generation/checkpoint-3791/')\n",
    "\n",
    "from pipelines import pipeline\n",
    "nlp = pipeline(\"multitask-qa-qg\", model='../../../question_generation/checkpoint-39799/', tokenizer='../../../question_generation/t5_qg_tokenizer/')\n",
    "\n",
    "text = \"\"\" A Volkswagen anunciou a chegada do ID.Buzz, a Kombi elétrica, ao Brasil. Em campanha publicitária, a marca alemã usou tecnologia de inteligência artificial para criar um comercial com a cantora Elis Regina, \n",
    "falecida em 1982, e a sua filha, a também cantora Maria Rita. Ambas aparecem cantando juntas a música 'Como Nossos Pais', composta por Belchior e eternizada por Elis.\n",
    "O vídeo, que já foi divulgado nas redes sociais da marca, foi exibido pela primeira vez em comemoração de 70 anos da Volkswagen no ginásio do Ibirapuera, em São Paulo. \n",
    "Diante de 5 mil pessoas, entre funcionários e convidados, a apresentação ainda contou com a presença de Maria Rita, que também cantou ao vivo a canção e se emocionou bastante - a cantora chegou a chorar abraçada com Ciro Possobom, CEO da VW do Brasil.\"\"\"\n",
    "\n",
    "nlp(text) "
   ]
  },
  {
   "cell_type": "code",
   "execution_count": null,
   "id": "aae4984a-17a2-4c09-b01e-b057a83c3336",
   "metadata": {},
   "outputs": [],
   "source": []
  }
 ],
 "metadata": {
  "kernelspec": {
   "display_name": "Python 3 (ipykernel)",
   "language": "python",
   "name": "python3"
  },
  "language_info": {
   "codemirror_mode": {
    "name": "ipython",
    "version": 3
   },
   "file_extension": ".py",
   "mimetype": "text/x-python",
   "name": "python",
   "nbconvert_exporter": "python",
   "pygments_lexer": "ipython3",
   "version": "3.11.4"
  }
 },
 "nbformat": 4,
 "nbformat_minor": 5
}
